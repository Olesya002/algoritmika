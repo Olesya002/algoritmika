{
 "cells": [
  {
   "cell_type": "markdown",
   "metadata": {},
   "source": [
    "### Обязательно добавить:"
   ]
  },
  {
   "cell_type": "markdown",
   "metadata": {},
   "source": [
    "1. У кого нет списка с вопросами, следует его создать и добавить как минимум 4 вопроса."
   ]
  },
  {
   "cell_type": "code",
   "execution_count": null,
   "metadata": {},
   "outputs": [],
   "source": [
    "# учитывайте, что аргумент с верным ответом указывается после строки с вопросом\n",
    "\n",
    "questions_list = [Question('1-й вопрос', 'верный ответ', '1-й неверный', '2-й неверный', '3-й неверный'),\n",
    "                  Question('2-й вопрос', 'верный ответ', '1-й неверный', '2-й неверный', '3-й неверный'),\n",
    "                  Question('3-й вопрос', 'верный ответ', '1-й неверный', '2-й неверный', '3-й неверный'),\n",
    "                  Question('4-й вопрос', 'верный ответ', '1-й неверный', '2-й неверный', '3-й неверный'),]"
   ]
  },
  {
   "cell_type": "markdown",
   "metadata": {},
   "source": [
    "2. Таким образом, в программе есть список с вопросами и функция (ask), которая может задавать вопрос.  \n",
    "Теперь необходимо вызывать эту функцию (ask) в нужный момент - перед отображением формы с вопросом."
   ]
  },
  {
   "cell_type": "code",
   "execution_count": null,
   "metadata": {},
   "outputs": [],
   "source": [
    "# находим функцию, которую вы коннектили к кнопке + вызываем в ней функцию ask (скорее всего сразу после else)\n",
    "\n",
    "def test():\n",
    "    if btn.text() == 'Ответить':\n",
    "        show_result()\n",
    "    else:\n",
    "        ask(questions_list[0])    # аргумент - 0-й вопрос списка questions_list\n",
    "        show_question()"
   ]
  },
  {
   "cell_type": "markdown",
   "metadata": {},
   "source": [
    "3. Если все работает, как надо - после запуска программы заметите, что при нажатии на верный ответ пользователю не сообщают ответил он верно или нет. (не пишется \"Верно\" или \"Неверно\"). Добавим такую возможность."
   ]
  },
  {
   "cell_type": "code",
   "execution_count": null,
   "metadata": {},
   "outputs": [],
   "source": [
    "# снова работаем с функцией, которую коннектили к кнопке\n",
    "# добавим проверку нажатия на определенный переключатель (r1,r2,r3,r4)\n",
    "# Пример:  r1.isChecked() - будет True, если вы нажали на r1 и False в ином случае\n",
    "# Помним, что у нас список с переключателями: answers = [r1,r2,r3,r4]      r1.isChecked() это answers[0].isChecked()\n",
    "def test():\n",
    "    if btn.text() == 'Ответить':\n",
    "        if answers[0].isChecked():                 # на 0-м месте в списке стоит верный ответ\n",
    "            AnswerGroupBox.setTitle('Верно!')      # изменяем заголовок у формы с ответом\n",
    "            show_result()\n",
    "        elif answers[1].isChecked() or answers[2].isChecked() or answers[3].isChecked():\n",
    "            AnswerGroupBox.setTitle('Неверно!')\n",
    "            show_result()\n",
    "    else:\n",
    "        ask(questions_list[0])    \n",
    "        show_question()"
   ]
  },
  {
   "cell_type": "markdown",
   "metadata": {},
   "source": [
    "4. Последний важный шаг - добавление переключения между вопросами в списке.  \n",
    "Самый простой вариант - задавать вопрос и после этого удалять его из списка.  \n",
    "Также учтем, что когда вопросы закончатся - программу следует завершить."
   ]
  },
  {
   "cell_type": "code",
   "execution_count": null,
   "metadata": {},
   "outputs": [],
   "source": [
    "def test():\n",
    "    if btn.text() == 'Ответить':\n",
    "        if answers[0].isChecked():\n",
    "            AnswerGroupBox.setTitle('Верно!')\n",
    "            show_result()\n",
    "        elif answers[1].isChecked() or answers[2].isChecked() or answers[3].isChecked():\n",
    "            AnswerGroupBox.setTitle('Неверно!')\n",
    "            show_result()\n",
    "    else:\n",
    "        if len(questions_list) != 0:     # проверяем, есть ли еще вопросы в списке\n",
    "            ask(questions_list[0])       # задаем 0-й вопрос\n",
    "            del questions_list[0]        # удаляем 0-й вопрос  (теперь на 0-е место встанет следующий вопрос)\n",
    "            show_question()\n",
    "        else:\n",
    "            quit()                       # функция, которая завершит работу программы\n",
    "\n",
    "'''Также, для корректного отображения задайте вопрос и удалите его перед показом окна'''\n",
    "ask(questions_list[0])\n",
    "del questions_list[0]\n",
    "window.show()\n",
    "app.exec()"
   ]
  },
  {
   "cell_type": "markdown",
   "metadata": {},
   "source": [
    "### Дополнительные фичи:"
   ]
  },
  {
   "cell_type": "markdown",
   "metadata": {},
   "source": [
    "1. При переключении вопросов можно заметить, что выбранный на предыдущем вопросе переключатель, остается нажатым.  \n",
    "Исправим это"
   ]
  },
  {
   "cell_type": "code",
   "execution_count": null,
   "metadata": {},
   "outputs": [],
   "source": [
    "# добавим следующий код в функцию, которая отображает форму с вопросом\n",
    "def show_question():\n",
    "    AnswerGroupBox.hide()\n",
    "\n",
    "    for button in answers:                # тут перебираем кнопки в списке\n",
    "        button.setAutoExclusive(False)    # сначала нужно сбросить эксклюзивность\n",
    "        button.setChecked(False)          # теперь сбросить переключатель\n",
    "        button.setAutoExclusive(True)     # вернем эксклюзивность\n",
    "\n",
    "    RadioGroupBox.show()\n",
    "    btn.setText('Ответить')"
   ]
  },
  {
   "cell_type": "markdown",
   "metadata": {},
   "source": [
    "2. Визуальная составляющая вашего приложения.  \n",
    "Добавьте название окна, размер окна.  \n",
    "PS: в теории по приложению Memory Card можете почитать про выравнивание элементов на линиях. "
   ]
  },
  {
   "cell_type": "code",
   "execution_count": null,
   "metadata": {},
   "outputs": [],
   "source": [
    "# название приложения\n",
    "window.setWindowTitle('Приложение Memory Card') \n",
    "\n",
    "# размеры окна\n",
    "window.resize(600, 400)"
   ]
  },
  {
   "cell_type": "markdown",
   "metadata": {},
   "source": [
    "3. (*) Подсчет статистики и рейтинга."
   ]
  },
  {
   "cell_type": "code",
   "execution_count": null,
   "metadata": {},
   "outputs": [],
   "source": [
    "# создать две переменные (score - количество верно данных ответов, total - количество заданных вопросов)\n",
    "window.score = 0\n",
    "window.total = 0"
   ]
  },
  {
   "cell_type": "markdown",
   "metadata": {},
   "source": [
    "4. (*) Перемешать вопросы в списке."
   ]
  }
 ],
 "metadata": {
  "language_info": {
   "name": "python"
  }
 },
 "nbformat": 4,
 "nbformat_minor": 2
}
